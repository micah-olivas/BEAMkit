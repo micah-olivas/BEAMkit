{
 "cells": [
  {
   "cell_type": "code",
   "execution_count": 2,
   "id": "798b70d4",
   "metadata": {},
   "outputs": [
    {
     "name": "stderr",
     "output_type": "stream",
     "text": [
      "/opt/anaconda3/envs/beak/lib/python3.10/site-packages/Bio/pairwise2.py:278: BiopythonDeprecationWarning: Bio.pairwise2 has been deprecated, and we intend to remove it in a future release of Biopython. As an alternative, please consider using Bio.Align.PairwiseAligner as a replacement, and contact the Biopython developers if you still need the Bio.pairwise2 module.\n",
      "  warnings.warn(\n"
     ]
    }
   ],
   "source": [
    "%load_ext autoreload\n",
    "%autoreload 2\n",
    "\n",
    "import seaborn as sns\n",
    "from Bio import AlignIO\n",
    "import beak.alignments.utils"
   ]
  },
  {
   "cell_type": "markdown",
   "id": "ab150a99",
   "metadata": {},
   "source": [
    "First, let's load an alignment"
   ]
  },
  {
   "cell_type": "code",
   "execution_count": 5,
   "id": "0799b2c5",
   "metadata": {},
   "outputs": [
    {
     "ename": "ValueError",
     "evalue": "Sequences must all be the same length",
     "output_type": "error",
     "traceback": [
      "\u001b[0;31m---------------------------------------------------------------------------\u001b[0m",
      "\u001b[0;31mValueError\u001b[0m                                Traceback (most recent call last)",
      "Cell \u001b[0;32mIn[5], line 2\u001b[0m\n\u001b[1;32m      1\u001b[0m filepath \u001b[38;5;241m=\u001b[39m \u001b[38;5;124m'\u001b[39m\u001b[38;5;124m/Users/micaholivas/Downloads/sp_Q9KJX5_ALPH_ELIME_Alkaline_phosphatase_PafA_OS_Elizabethkingia_meningoseptica_OX_238_GN_pafA_PE_1_SV_1.a3m\u001b[39m\u001b[38;5;124m'\u001b[39m\n\u001b[0;32m----> 2\u001b[0m aln \u001b[38;5;241m=\u001b[39m \u001b[43mAlignIO\u001b[49m\u001b[38;5;241;43m.\u001b[39;49m\u001b[43mread\u001b[49m\u001b[43m(\u001b[49m\u001b[43mfilepath\u001b[49m\u001b[43m,\u001b[49m\u001b[43m \u001b[49m\u001b[38;5;124;43m\"\u001b[39;49m\u001b[38;5;124;43mfasta\u001b[39;49m\u001b[38;5;124;43m\"\u001b[39;49m\u001b[43m)\u001b[49m\n",
      "File \u001b[0;32m/opt/anaconda3/envs/beak/lib/python3.10/site-packages/Bio/AlignIO/__init__.py:384\u001b[0m, in \u001b[0;36mread\u001b[0;34m(handle, format, seq_count)\u001b[0m\n\u001b[1;32m    382\u001b[0m iterator \u001b[38;5;241m=\u001b[39m parse(handle, \u001b[38;5;28mformat\u001b[39m, seq_count)\n\u001b[1;32m    383\u001b[0m \u001b[38;5;28;01mtry\u001b[39;00m:\n\u001b[0;32m--> 384\u001b[0m     alignment \u001b[38;5;241m=\u001b[39m \u001b[38;5;28;43mnext\u001b[39;49m\u001b[43m(\u001b[49m\u001b[43miterator\u001b[49m\u001b[43m)\u001b[49m\n\u001b[1;32m    385\u001b[0m \u001b[38;5;28;01mexcept\u001b[39;00m \u001b[38;5;167;01mStopIteration\u001b[39;00m:\n\u001b[1;32m    386\u001b[0m     \u001b[38;5;28;01mraise\u001b[39;00m \u001b[38;5;167;01mValueError\u001b[39;00m(\u001b[38;5;124m\"\u001b[39m\u001b[38;5;124mNo records found in handle\u001b[39m\u001b[38;5;124m\"\u001b[39m) \u001b[38;5;28;01mfrom\u001b[39;00m\u001b[38;5;250m \u001b[39m\u001b[38;5;28;01mNone\u001b[39;00m\n",
      "File \u001b[0;32m/opt/anaconda3/envs/beak/lib/python3.10/site-packages/Bio/AlignIO/__init__.py:335\u001b[0m, in \u001b[0;36mparse\u001b[0;34m(handle, format, seq_count)\u001b[0m\n\u001b[1;32m    332\u001b[0m \u001b[38;5;28;01melse\u001b[39;00m:\n\u001b[1;32m    333\u001b[0m     \u001b[38;5;28;01mraise\u001b[39;00m \u001b[38;5;167;01mValueError\u001b[39;00m(\u001b[38;5;124mf\u001b[39m\u001b[38;5;124m\"\u001b[39m\u001b[38;5;124mUnknown format \u001b[39m\u001b[38;5;124m'\u001b[39m\u001b[38;5;132;01m{\u001b[39;00m\u001b[38;5;28mformat\u001b[39m\u001b[38;5;132;01m}\u001b[39;00m\u001b[38;5;124m'\u001b[39m\u001b[38;5;124m\"\u001b[39m)\n\u001b[0;32m--> 335\u001b[0m \u001b[38;5;28;01myield from\u001b[39;00m i\n",
      "File \u001b[0;32m/opt/anaconda3/envs/beak/lib/python3.10/site-packages/Bio/AlignIO/__init__.py:277\u001b[0m, in \u001b[0;36m_SeqIO_to_alignment_iterator\u001b[0;34m(handle, format, seq_count)\u001b[0m\n\u001b[1;32m    275\u001b[0m records \u001b[38;5;241m=\u001b[39m \u001b[38;5;28mlist\u001b[39m(SeqIO\u001b[38;5;241m.\u001b[39mparse(handle, \u001b[38;5;28mformat\u001b[39m))\n\u001b[1;32m    276\u001b[0m \u001b[38;5;28;01mif\u001b[39;00m records:\n\u001b[0;32m--> 277\u001b[0m     \u001b[38;5;28;01myield\u001b[39;00m \u001b[43mMultipleSeqAlignment\u001b[49m\u001b[43m(\u001b[49m\u001b[43mrecords\u001b[49m\u001b[43m)\u001b[49m\n",
      "File \u001b[0;32m/opt/anaconda3/envs/beak/lib/python3.10/site-packages/Bio/Align/__init__.py:191\u001b[0m, in \u001b[0;36mMultipleSeqAlignment.__init__\u001b[0;34m(self, records, alphabet, annotations, column_annotations)\u001b[0m\n\u001b[1;32m    189\u001b[0m \u001b[38;5;28mself\u001b[39m\u001b[38;5;241m.\u001b[39m_records \u001b[38;5;241m=\u001b[39m []\n\u001b[1;32m    190\u001b[0m \u001b[38;5;28;01mif\u001b[39;00m records:\n\u001b[0;32m--> 191\u001b[0m     \u001b[38;5;28;43mself\u001b[39;49m\u001b[38;5;241;43m.\u001b[39;49m\u001b[43mextend\u001b[49m\u001b[43m(\u001b[49m\u001b[43mrecords\u001b[49m\u001b[43m)\u001b[49m\n\u001b[1;32m    193\u001b[0m \u001b[38;5;66;03m# Annotations about the whole alignment\u001b[39;00m\n\u001b[1;32m    194\u001b[0m \u001b[38;5;28;01mif\u001b[39;00m annotations \u001b[38;5;129;01mis\u001b[39;00m \u001b[38;5;28;01mNone\u001b[39;00m:\n",
      "File \u001b[0;32m/opt/anaconda3/envs/beak/lib/python3.10/site-packages/Bio/Align/__init__.py:500\u001b[0m, in \u001b[0;36mMultipleSeqAlignment.extend\u001b[0;34m(self, records)\u001b[0m\n\u001b[1;32m    497\u001b[0m     \u001b[38;5;66;03m# Now continue to the rest of the records as usual\u001b[39;00m\n\u001b[1;32m    499\u001b[0m \u001b[38;5;28;01mfor\u001b[39;00m rec \u001b[38;5;129;01min\u001b[39;00m records:\n\u001b[0;32m--> 500\u001b[0m     \u001b[38;5;28;43mself\u001b[39;49m\u001b[38;5;241;43m.\u001b[39;49m\u001b[43m_append\u001b[49m\u001b[43m(\u001b[49m\u001b[43mrec\u001b[49m\u001b[43m,\u001b[49m\u001b[43m \u001b[49m\u001b[43mexpected_length\u001b[49m\u001b[43m)\u001b[49m\n",
      "File \u001b[0;32m/opt/anaconda3/envs/beak/lib/python3.10/site-packages/Bio/Align/__init__.py:562\u001b[0m, in \u001b[0;36mMultipleSeqAlignment._append\u001b[0;34m(self, record, expected_length)\u001b[0m\n\u001b[1;32m    555\u001b[0m \u001b[38;5;66;03m# Currently the get_alignment_length() call is expensive, so we need\u001b[39;00m\n\u001b[1;32m    556\u001b[0m \u001b[38;5;66;03m# to avoid calling it repeatedly for __init__ and extend, hence this\u001b[39;00m\n\u001b[1;32m    557\u001b[0m \u001b[38;5;66;03m# private _append method\u001b[39;00m\n\u001b[1;32m    558\u001b[0m \u001b[38;5;28;01mif\u001b[39;00m expected_length \u001b[38;5;129;01mis\u001b[39;00m \u001b[38;5;129;01mnot\u001b[39;00m \u001b[38;5;28;01mNone\u001b[39;00m \u001b[38;5;129;01mand\u001b[39;00m \u001b[38;5;28mlen\u001b[39m(record) \u001b[38;5;241m!=\u001b[39m expected_length:\n\u001b[1;32m    559\u001b[0m     \u001b[38;5;66;03m# TODO - Use the following more helpful error, but update unit tests\u001b[39;00m\n\u001b[1;32m    560\u001b[0m     \u001b[38;5;66;03m# raise ValueError(\"New sequence is not of length %i\"\u001b[39;00m\n\u001b[1;32m    561\u001b[0m     \u001b[38;5;66;03m#                  % self.get_alignment_length())\u001b[39;00m\n\u001b[0;32m--> 562\u001b[0m     \u001b[38;5;28;01mraise\u001b[39;00m \u001b[38;5;167;01mValueError\u001b[39;00m(\u001b[38;5;124m\"\u001b[39m\u001b[38;5;124mSequences must all be the same length\u001b[39m\u001b[38;5;124m\"\u001b[39m)\n\u001b[1;32m    564\u001b[0m \u001b[38;5;28mself\u001b[39m\u001b[38;5;241m.\u001b[39m_records\u001b[38;5;241m.\u001b[39mappend(record)\n",
      "\u001b[0;31mValueError\u001b[0m: Sequences must all be the same length"
     ]
    }
   ],
   "source": [
    "filepath = '/Users/micaholivas/Downloads/sp_Q9KJX5_ALPH_ELIME_Alkaline_phosphatase_PafA_OS_Elizabethkingia_meningoseptica_OX_238_GN_pafA_PE_1_SV_1.a3m'\n",
    "aln = AlignIO.read(filepath, \"fasta\")"
   ]
  },
  {
   "cell_type": "markdown",
   "id": "a64ceddd",
   "metadata": {},
   "source": [
    "Now we'll \"ungap\" the alignment by removing significantly gapped positions"
   ]
  },
  {
   "cell_type": "code",
   "execution_count": null,
   "id": "52cc0efc",
   "metadata": {},
   "outputs": [],
   "source": [
    "aln = beak.alignments.utils.ungap_aln(aln)\n",
    "aln"
   ]
  },
  {
   "cell_type": "markdown",
   "id": "0047fa60",
   "metadata": {},
   "source": [
    "Great! Let's see what the consensus sequence is from this alignment"
   ]
  },
  {
   "cell_type": "code",
   "execution_count": null,
   "id": "4b542e52",
   "metadata": {},
   "outputs": [],
   "source": [
    "consensus = beak.alignments.utils.get_consensus(aln)\n",
    "print(consensus)"
   ]
  },
  {
   "cell_type": "markdown",
   "id": "c7a99362",
   "metadata": {},
   "source": [
    "Let's make a position-specific scoring matrix"
   ]
  },
  {
   "cell_type": "code",
   "execution_count": null,
   "id": "5075a04c",
   "metadata": {},
   "outputs": [],
   "source": [
    "pssm = beak.alignments.utils.alignment_to_pssm(aln, freq=True)\n",
    "pssm"
   ]
  },
  {
   "cell_type": "markdown",
   "id": "1cacaa4c",
   "metadata": {},
   "source": [
    "Now, for a query sequence, get the frequency of each residue at each aligned position"
   ]
  },
  {
   "cell_type": "code",
   "execution_count": null,
   "id": "63f4d046",
   "metadata": {},
   "outputs": [],
   "source": [
    "my_seq = \"MSTAQSLKSVDYEVFGRVQGVCFRMYTEDEARKIGVVGWVKNTSKGTVTGQVQGPEDKVNSMKSWLSKVGSPSSRIDRTNFSNEKTISKLEYSNFSIRY\"\n",
    "arr = beak.alignments.utils.single_sequence_aln_frequencies(my_seq, pssm, check_positions=True)\n",
    "print(arr)"
   ]
  },
  {
   "cell_type": "markdown",
   "id": "b522873b",
   "metadata": {},
   "source": [
    "Get the conservation of each position"
   ]
  },
  {
   "cell_type": "code",
   "execution_count": null,
   "id": "e74c2bba",
   "metadata": {},
   "outputs": [],
   "source": [
    "import matplotlib.pyplot as plt\n",
    "\n",
    "conservation = beak.alignments.utils.conservation_from_aln(aln)\n",
    "conservation = beak.alignments.utils.single_sequence_aln_frequencies(my_seq, pssm, check_positions=False)"
   ]
  },
  {
   "cell_type": "code",
   "execution_count": null,
   "id": "5bd5214e",
   "metadata": {},
   "outputs": [],
   "source": [
    "fig, axs = plt.subplots(figsize=(8,0.5), dpi=200)\n",
    "# plt.imshow(conservation.reshape(86,1).T, aspect='auto')\n",
    "plt.imshow(conservation.reshape(99,1).T, aspect='auto')\n",
    "plt.colorbar(shrink=1, aspect=2)\n",
    "plt.yticks([])\n",
    "plt.xlabel('Alignment Position')\n",
    "axs.xaxis.tick_top()\n",
    "axs.xaxis.set_label_position('top')\n",
    "plt.tick_params(axis='x', which='major', pad=-0.5)\n",
    "plt.show()"
   ]
  },
  {
   "cell_type": "markdown",
   "id": "2bac5d65",
   "metadata": {},
   "source": [
    "Use PSSM to get composition of sequence at position i"
   ]
  },
  {
   "cell_type": "code",
   "execution_count": null,
   "id": "f5572b28",
   "metadata": {},
   "outputs": [],
   "source": [
    "beak.alignments.utils.aln_to_dict(aln)"
   ]
  },
  {
   "cell_type": "code",
   "execution_count": null,
   "id": "680a68c1",
   "metadata": {},
   "outputs": [],
   "source": [
    "pssm.iloc[37]"
   ]
  },
  {
   "cell_type": "code",
   "execution_count": null,
   "id": "bbc67902",
   "metadata": {},
   "outputs": [],
   "source": [
    "import pandas as pd\n",
    "\n",
    "new_aln_file = '/Users/micaholivas/Downloads/quick_acyps_aligned.fasta'\n",
    "new_aln = AlignIO.read(new_aln_file, \"fasta\")\n",
    "\n",
    "tsv_file = '/Users/micaholivas/Downloads/uniprotkb_acylphosphatase_AND_reviewed_2025_05_02.tsv'\n",
    "df = pd.read_csv(tsv_file, sep='\\t')\n",
    "df.iloc[1]['Taxonomic lineage']"
   ]
  },
  {
   "cell_type": "code",
   "execution_count": null,
   "id": "00d65db7",
   "metadata": {},
   "outputs": [],
   "source": [
    "length_cutoff = 100\n",
    "\n",
    "# Drop sequences longer than 110 AA from df_expanded\n",
    "df = df[df['Length'] <= length_cutoff]\n",
    "\n",
    "# Drop sequences longer than 110 AA (not counting gaps) from new_aln\n",
    "from Bio.SeqRecord import SeqRecord\n",
    "\n",
    "filtered_records = [\n",
    "    record for record in new_aln\n",
    "    if len(str(record.seq).replace(\"-\", \"\")) <= length_cutoff\n",
    "]\n",
    "from Bio.Align import MultipleSeqAlignment\n",
    "new_aln = MultipleSeqAlignment(filtered_records)"
   ]
  },
  {
   "cell_type": "code",
   "execution_count": null,
   "id": "9e2b8fd6",
   "metadata": {},
   "outputs": [],
   "source": [
    "\n",
    "import re\n",
    "\n",
    "def parse_taxonomic_lineage(lineage_str):\n",
    "    # Split by comma, then extract name and rank using regex\n",
    "    items = [item.strip() for item in lineage_str.split(',')]\n",
    "    parsed = {}\n",
    "    for item in items:\n",
    "        match = re.match(r\"(.+?) \\((.+?)\\)$\", item)\n",
    "        if match:\n",
    "            name, rank = match.groups()\n",
    "            parsed[rank] = name\n",
    "        else:\n",
    "            # If no rank, use as is\n",
    "            parsed['no rank'] = item\n",
    "    return parsed\n",
    "\n",
    "# Apply to the column and create a DataFrame\n",
    "tax_df = df['Taxonomic lineage'].apply(parse_taxonomic_lineage).apply(pd.Series)\n",
    "\n",
    "# Concatenate with original DataFrame if needed\n",
    "df_expanded = pd.concat([df, tax_df], axis=1)\n",
    "\n",
    "df_expanded = df_expanded.drop(columns=['Organism', 'Taxonomic lineage'])\n",
    "\n",
    "df_expanded.sample(5)"
   ]
  },
  {
   "cell_type": "markdown",
   "id": "d2f4659f",
   "metadata": {},
   "source": [
    "Ungap the alignment"
   ]
  },
  {
   "cell_type": "code",
   "execution_count": null,
   "id": "f05e39b0",
   "metadata": {},
   "outputs": [],
   "source": [
    "new_aln = beak.alignments.utils.ungap_aln(new_aln)\n",
    "for record in new_aln:\n",
    "    print(record.seq)"
   ]
  },
  {
   "cell_type": "markdown",
   "id": "3c138e9e",
   "metadata": {},
   "source": [
    "Now, merge the aligned sequences into the df"
   ]
  },
  {
   "cell_type": "code",
   "execution_count": null,
   "id": "31ee2bfa",
   "metadata": {},
   "outputs": [],
   "source": [
    "from Bio import SeqIO\n",
    "\n",
    "def extract_entry_id(header):\n",
    "    parts = header.split('|')\n",
    "    if len(parts) >= 3:\n",
    "        return parts[1]\n",
    "    else:\n",
    "        return header  # fallback if not in expected format\n",
    "\n",
    "# Step 1: Extract IDs and sequences from new_aln\n",
    "aln_records = [(extract_entry_id(record.id), str(record.seq)) for record in new_aln]\n",
    "aln_df = pd.DataFrame(aln_records, columns=['Entry', 'Aligned_sequence'])\n",
    "\n",
    "# Step 2: Merge with expanded TSV DataFrame\n",
    "merged_df = df_expanded.merge(aln_df, on='Entry', how='left')\n",
    "\n",
    "merged_df.sample(5)\n",
    "# ...existing code..."
   ]
  },
  {
   "cell_type": "markdown",
   "id": "f7ec4896",
   "metadata": {},
   "source": [
    "Now that we've merged our taxonomic information into the df, compute a PSSM for each"
   ]
  },
  {
   "cell_type": "code",
   "execution_count": null,
   "id": "7ae62404",
   "metadata": {},
   "outputs": [],
   "source": [
    "pssms_by_tax_rank = beak.alignments.utils.pssms_by_taxon(merged_df, 'kingdom')"
   ]
  },
  {
   "cell_type": "code",
   "execution_count": null,
   "id": "73fc6066",
   "metadata": {},
   "outputs": [],
   "source": [
    "import holoviews as hv\n",
    "import panel as pn\n",
    "import pandas as pd\n",
    "from matplotlib.colors import LinearSegmentedColormap\n",
    "\n",
    "hv.extension('bokeh')\n",
    "\n",
    "def interactive_pssm_heatmap(\n",
    "    pssms_by_tax_rank,\n",
    "    consensus,\n",
    "    rank='kingdom',\n",
    "    phosphate_loop={9,11,12,13,14},\n",
    "    catalytic={17,35}\n",
    "):\n",
    "    \"\"\"\n",
    "    Interactive PSSM heatmap explorer by taxonomic rank.\n",
    "\n",
    "    Args:\n",
    "        pssms_by_tax_rank: dict of {taxon: PSSM DataFrame}\n",
    "        consensus: consensus sequence string\n",
    "        rank: taxonomic rank label for y-axis\n",
    "        phosphate_loop: set of positions to highlight as phosphate loop\n",
    "        catalytic: set of positions to highlight as catalytic residues\n",
    "\n",
    "    Returns:\n",
    "        pn.Column Panel layout for interactive exploration\n",
    "    \"\"\"\n",
    "    # Prepare amino acid set\n",
    "    aas = set()\n",
    "    for pssm in pssms_by_tax_rank.values():\n",
    "        aas.update(pssm.columns)\n",
    "    aas = sorted(aas)\n",
    "\n",
    "    # Custom colormap: 0 is white, 1 is blue\n",
    "    cmap = LinearSegmentedColormap.from_list(\"white_blue\", [\"white\", \"blue\"])\n",
    "\n",
    "    def highlight_consensus(consensus, pos):\n",
    "        html = \"\"\n",
    "        for i, aa in enumerate(consensus):\n",
    "            style = \"font-size:18px\"\n",
    "            if i == pos:\n",
    "                style += \";background-color:yellow; color:black; font-weight:bold\"\n",
    "            if i in phosphate_loop:\n",
    "                style += \";color:green; font-weight:bold\"\n",
    "            if i in catalytic:\n",
    "                style += \";color:red; font-weight:bold\"\n",
    "            html += f\"<span style='{style}'>{aa}</span>\"\n",
    "        return f\"<div style='font-family:monospace; word-break:break-all'>{html}</div>\"\n",
    "\n",
    "    def plot_heatmap(position=0):\n",
    "        # Build DataFrame for the selected position\n",
    "        heatmap_data = []\n",
    "        index = []\n",
    "        for sk, pssm in pssms_by_tax_rank.items():\n",
    "            row = []\n",
    "            for aa in aas:\n",
    "                row.append(pssm.iloc[position][aa] if aa in pssm.columns else 0)\n",
    "            heatmap_data.append(row)\n",
    "            index.append(sk)\n",
    "        heatmap_df = pd.DataFrame(heatmap_data, columns=aas, index=index)\n",
    "        tidy = heatmap_df.reset_index().melt(id_vars='index', var_name='AA', value_name='Frequency')\n",
    "        heatmap = hv.HeatMap(tidy, kdims=['AA', 'index'], vdims='Frequency').opts(\n",
    "            cmap=cmap,\n",
    "            colorbar=True,\n",
    "            clim=(0, 1),\n",
    "            xrotation=0,\n",
    "            yrotation=0,\n",
    "            xlabel='Amino Acid',\n",
    "            ylabel=rank.capitalize(),\n",
    "            colorbar_opts={'title': 'Frequency'},\n",
    "            tools=['hover'],\n",
    "            width=800,\n",
    "            height=300,\n",
    "            line_color='black',\n",
    "            show_grid=True,\n",
    "            toolbar='above',\n",
    "            labelled=['x', 'y', 'colorbar'],\n",
    "            xaxis='top',\n",
    "            fontsize={'xticks': 14, 'yticks': 14, 'ylabel': 14, 'xlabel': 14, 'title': 16}\n",
    "        )\n",
    "        return heatmap.opts(title=f\"Aligned Position {position+1}\")\n",
    "\n",
    "    slider = pn.widgets.IntSlider(name='Aligned Position', start=0, end=len(consensus)-1, value=0)\n",
    "\n",
    "    @pn.depends(slider)\n",
    "    def consensus_view(position):\n",
    "        return pn.pane.HTML(highlight_consensus(consensus, position), width=800)\n",
    "\n",
    "    dmap = hv.DynamicMap(pn.bind(plot_heatmap, position=slider))\n",
    "\n",
    "    return pn.Column(\n",
    "        slider,\n",
    "        dmap,\n",
    "        pn.pane.Markdown(\"## Consensus sequence (highlighted position):\"),\n",
    "        consensus_view\n",
    "    )\n",
    "\n",
    "# Example usage:\n",
    "panel = interactive_pssm_heatmap(pssms_by_tax_rank, consensus, rank='kingdom')\n",
    "panel.servable()"
   ]
  },
  {
   "cell_type": "code",
   "execution_count": null,
   "id": "f8c92588",
   "metadata": {},
   "outputs": [],
   "source": [
    "merged_df['superkingdom'].unique()"
   ]
  }
 ],
 "metadata": {
  "kernelspec": {
   "display_name": "beak",
   "language": "python",
   "name": "python3"
  },
  "language_info": {
   "codemirror_mode": {
    "name": "ipython",
    "version": 3
   },
   "file_extension": ".py",
   "mimetype": "text/x-python",
   "name": "python",
   "nbconvert_exporter": "python",
   "pygments_lexer": "ipython3",
   "version": "3.10.17"
  }
 },
 "nbformat": 4,
 "nbformat_minor": 5
}
