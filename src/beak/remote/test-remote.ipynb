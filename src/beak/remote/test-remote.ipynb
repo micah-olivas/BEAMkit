{
 "cells": [
  {
   "cell_type": "markdown",
   "id": "adeaf748",
   "metadata": {},
   "source": [
    "# Tutorial: BEAK Remote Functions"
   ]
  },
  {
   "cell_type": "code",
   "execution_count": 5,
   "id": "60f28aaf",
   "metadata": {},
   "outputs": [
    {
     "name": "stdout",
     "output_type": "stream",
     "text": [
      "The autoreload extension is already loaded. To reload it, use:\n",
      "  %reload_ext autoreload\n"
     ]
    },
    {
     "ename": "ModuleNotFoundError",
     "evalue": "No module named 'beak'",
     "output_type": "error",
     "traceback": [
      "\u001b[0;31m---------------------------------------------------------------------------\u001b[0m",
      "\u001b[0;31mModuleNotFoundError\u001b[0m                       Traceback (most recent call last)",
      "Cell \u001b[0;32mIn[5], line 4\u001b[0m\n\u001b[1;32m      1\u001b[0m get_ipython()\u001b[38;5;241m.\u001b[39mrun_line_magic(\u001b[38;5;124m'\u001b[39m\u001b[38;5;124mload_ext\u001b[39m\u001b[38;5;124m'\u001b[39m, \u001b[38;5;124m'\u001b[39m\u001b[38;5;124mautoreload\u001b[39m\u001b[38;5;124m'\u001b[39m)\n\u001b[1;32m      2\u001b[0m get_ipython()\u001b[38;5;241m.\u001b[39mrun_line_magic(\u001b[38;5;124m'\u001b[39m\u001b[38;5;124mautoreload\u001b[39m\u001b[38;5;124m'\u001b[39m, \u001b[38;5;124m'\u001b[39m\u001b[38;5;124m2\u001b[39m\u001b[38;5;124m'\u001b[39m)\n\u001b[0;32m----> 4\u001b[0m \u001b[38;5;28;01mimport\u001b[39;00m\u001b[38;5;250m \u001b[39m\u001b[38;5;21;01mbeak\u001b[39;00m\u001b[38;5;21;01m.\u001b[39;00m\u001b[38;5;21;01mremote\u001b[39;00m\u001b[38;5;21;01m.\u001b[39;00m\u001b[38;5;21;01mutils\u001b[39;00m\n",
      "\u001b[0;31mModuleNotFoundError\u001b[0m: No module named 'beak'"
     ]
    }
   ],
   "source": [
    "%load_ext autoreload\n",
    "%autoreload 2\n",
    "\n",
    "import beak.remote.utils"
   ]
  },
  {
   "cell_type": "markdown",
   "id": "4189bc7e",
   "metadata": {},
   "source": [
    "First, **nest**! The `nest` function checks your directory on the remote"
   ]
  },
  {
   "cell_type": "code",
   "execution_count": 2,
   "id": "a7a327ea",
   "metadata": {},
   "outputs": [
    {
     "ename": "NameError",
     "evalue": "name 'beak' is not defined",
     "output_type": "error",
     "traceback": [
      "\u001b[0;31m---------------------------------------------------------------------------\u001b[0m",
      "\u001b[0;31mNameError\u001b[0m                                 Traceback (most recent call last)",
      "Cell \u001b[0;32mIn[2], line 1\u001b[0m\n\u001b[0;32m----> 1\u001b[0m \u001b[43mbeak\u001b[49m\u001b[38;5;241m.\u001b[39mremote\u001b[38;5;241m.\u001b[39mutils\u001b[38;5;241m.\u001b[39mauthenticate(user\u001b[38;5;241m=\u001b[39m\u001b[38;5;124m'\u001b[39m\u001b[38;5;124mmbolivas\u001b[39m\u001b[38;5;124m'\u001b[39m, host\u001b[38;5;241m=\u001b[39m\u001b[38;5;124m'\u001b[39m\u001b[38;5;124mshr-zion.stanford.edu\u001b[39m\u001b[38;5;124m'\u001b[39m)\n\u001b[1;32m      2\u001b[0m beak\u001b[38;5;241m.\u001b[39mremote\u001b[38;5;241m.\u001b[39mutils\u001b[38;5;241m.\u001b[39mnest()\n",
      "\u001b[0;31mNameError\u001b[0m: name 'beak' is not defined"
     ]
    }
   ],
   "source": [
    "beak.remote.utils.authenticate(user='mbolivas', host='shr-zion.stanford.edu')\n",
    "beak.remote.utils.nest()"
   ]
  },
  {
   "cell_type": "markdown",
   "id": "ac22fd4c",
   "metadata": {},
   "source": [
    "Now that we've established our remote directory, we"
   ]
  },
  {
   "cell_type": "code",
   "execution_count": null,
   "id": "7c5595ce",
   "metadata": {},
   "outputs": [],
   "source": [
    "my_seq = 'MSTAQSLKSVDYEVFGRVQGVCFRMYTEDEARKIGVVGWVKNTSKGTVTGQVQGPEDKVNSMKSWLSKVGSPSSRIDRTNFSNEKTISKLEYSNFSIRY'\n",
    "beak.remote.utils.search(my_seq)"
   ]
  },
  {
   "cell_type": "code",
   "execution_count": null,
   "id": "73e3095d",
   "metadata": {},
   "outputs": [],
   "source": []
  },
  {
   "cell_type": "code",
   "execution_count": null,
   "id": "cf7a39a2",
   "metadata": {},
   "outputs": [],
   "source": [
    "seq = ['ASQQSDDSSRT']\n",
    "beak.remote.utils.esm_single_sequence(seq)"
   ]
  }
 ],
 "metadata": {
  "kernelspec": {
   "display_name": "beak",
   "language": "python",
   "name": "python3"
  },
  "language_info": {
   "codemirror_mode": {
    "name": "ipython",
    "version": 3
   },
   "file_extension": ".py",
   "mimetype": "text/x-python",
   "name": "python",
   "nbconvert_exporter": "python",
   "pygments_lexer": "ipython3",
   "version": "3.10.17"
  }
 },
 "nbformat": 4,
 "nbformat_minor": 5
}
